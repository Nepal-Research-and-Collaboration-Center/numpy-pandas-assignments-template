{
 "cells": [
  {
   "cell_type": "markdown",
   "metadata": {},
   "source": [
    "# Assignment 2: Pandas - Traffic Data Analysis\n",
    "\n",
    "In this assignment, you will analyze traffic data collected at two intersections in Kathmandu over three days. Follow the tasks below to complete the assignment."
   ]
  },
  {
   "cell_type": "markdown",
   "metadata": {},
   "source": [
    "### Task 1: Create a Pandas DataFrame using the given data\n",
    "You are provided with the following data for traffic counts at two intersections over three days:\n",
    "\n",
    "```python\n",
    "data = {\n",
    "    \"Day\": [\"Monday\", \"Tuesday\", \"Wednesday\"],\n",
    "    \"Intersection 1\": [3400, 4100, 3900],\n",
    "    \"Intersection 2\": [5200, 5800, 5400]\n",
    "}\n",
    "```\n",
    "\n",
    "1. Use this data to create a Pandas DataFrame.\n",
    "2. Print the DataFrame to confirm that it has been created correctly."
   ]
  },
  {
   "cell_type": "code",
   "execution_count": null,
   "metadata": {},
   "outputs": [],
   "source": [
    "import pandas as pd\n",
    "\n",
    "data = {\n",
    "    \"Day\": [\"Monday\", \"Tuesday\", \"Wednesday\"],\n",
    "    \"Intersection 1\": [3400, 4100, 3900],\n",
    "    \"Intersection 2\": [5200, 5800, 5400]\n",
    "}\n",
    "\n",
    "# Create the DataFrame\n",
   "# YOUR CODE HERE"
   ]
  },
  {
   "cell_type": "markdown",
   "metadata": {},
   "source": [
    "### Task 2: Select and print the traffic data for Intersection 1 on Tuesday\n",
    "1. Use the `.loc[]` method to select the traffic data for Intersection 1 on Tuesday.\n",
    "2. Print the result."
   ]
  },
  {
   "cell_type": "code",
   "execution_count": null,
   "metadata": {},
   "outputs": [],
   "source": [
    "# Select and print the traffic data for Intersection 1 on Tuesday\n",
    "# YOUR CODE HERE"
   ]
  },
  {
   "cell_type": "markdown",
   "metadata": {},
   "source": [
    "### Task 3: Add a new column to the DataFrame representing the total traffic for each day\n",
    "1. Add a new column named `Total Traffic` to the DataFrame.\n",
    "2. The `Total Traffic` column should be the sum of the traffic at Intersection 1 and Intersection 2 for each day.\n",
    "3. Print the updated DataFrame."
   ]
  },
  {
   "cell_type": "code",
   "execution_count": null,
   "metadata": {},
   "outputs": [],
   "source": [
    "# Add a new column for total traffic\n",
    "# YOUR CODE HERE"
   ]
  },
  {
   "cell_type": "markdown",
   "metadata": {},
   "source": [
    "### Task 4: Sort the DataFrame by total traffic in descending order\n",
    "1. Use the `.sort_values()` method to sort the DataFrame by the `Total Traffic` column in descending order.\n",
    "2. Print the sorted DataFrame."
   ]
  },
  {
   "cell_type": "code",
   "execution_count": null,
   "metadata": {},
   "outputs": [],
   "source": [
    "# Sort the DataFrame by total traffic in descending order\n",
    "# YOUR CODE HERE"
   ]
  },
  {
   "cell_type": "markdown",
   "metadata": {},
   "source": [
    "### Task 5: Save the DataFrame to a CSV file\n",
    "1. Save the sorted DataFrame to a CSV file named `traffic_analysis.csv` using the `.to_csv()` method.\n",
    "2. Ensure the index is not included in the CSV file.\n",
    "3. Check the contents of the CSV file by reading it back into a DataFrame and printing it."
   ]
  },
  {
   "cell_type": "code",
   "execution_count": null,
   "metadata": {},
   "outputs": [],
   "source": [
    "# Save the DataFrame to a CSV file\n",
    "# YOUR CODE HERE"
   ]
  }
 ],
 "metadata": {
  "kernelspec": {
   "display_name": "Python 3",
   "language": "python",
   "name": "python3"
  },
  "language_info": {
   "codemirror_mode": {
    "name": "ipython",
    "version": 3
   },
   "file_extension": ".py",
   "mimetype": "text/x-python",
   "name": "python",
   "nbconvert_exporter": "python",
   "version": "3.7.10"
  }
 },
 "nbformat": 4,
 "nbformat_minor": 4
}
