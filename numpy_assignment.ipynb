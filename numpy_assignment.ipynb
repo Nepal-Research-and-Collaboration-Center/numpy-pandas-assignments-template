{
 "cells": [
  {
   "cell_type": "markdown",
   "metadata": {},
   "source": [
    "# Assignment 1: Numpy - Temperature Data Analysis\n",
    "\n",
    "In this assignment, you will analyze temperature data for Kathmandu city over two weeks. Follow the tasks below to complete the assignment."
   ]
  },
  {
   "cell_type": "markdown",
   "metadata": {},
   "source": [
    "### Task 1: Calculate the average temperature for each week\n",
    "Use the provided data to calculate the average temperature for Week 1 and Week 2."
   ]
  },
  {
   "cell_type": "code",
   "execution_count": null,
   "metadata": {},
   "outputs": [],
   "source": [
    "import numpy as np\n",
    "\n",
    "week1_temp = np.array([15.5, 16.8, 18.1, 17.3, 19.2, 20.5, 21.2])\n",
    "week2_temp = np.array([22.1, 23.4, 22.8, 24.0, 23.5, 24.8, 25.1])\n",
    "\n",
    "# Calculate the average temperature for each week\n",
    "# YOUR CODE HERE"
   ]
  },
  {
   "cell_type": "markdown",
   "metadata": {},
   "source": [
    "### Task 2: Find the day with the highest temperature in each week\n",
    "Use Numpy functions to determine which day had the highest temperature in each week."
   ]
  },
  {
   "cell_type": "code",
   "execution_count": null,
   "metadata": {},
   "outputs": [],
   "source": [
    "# Find the day with the highest temperature in each week\n",
    "# YOUR CODE HERE"
   ]
  },
  {
   "cell_type": "markdown",
   "metadata": {},
   "source": [
    "### Task 3: Calculate the temperature difference between the two weeks for each day\n",
    "Find the difference in temperature between the same day in Week 1 and Week 2."
   ]
  },
  {
   "cell_type": "code",
   "execution_count": null,
   "metadata": {},
   "outputs": [],
   "source": [
    "# Calculate the temperature difference between corresponding days of Week 1 and Week 2\n",
    "# YOUR CODE HERE"
   ]
  },
  {
   "cell_type": "markdown",
   "metadata": {},
   "source": [
    "### Task 4: Reshape the temperature data to represent 2 weeks by 7 days\n",
    "Reshape the temperature data so that each row represents a week, and each column represents a day."
   ]
  },
  {
   "cell_type": "code",
   "execution_count": null,
   "metadata": {},
   "outputs": [],
   "source": [
    "# Reshape the temperature data to 2x7\n",
    "# YOUR CODE HERE"
   ]
  },
  {
   "cell_type": "markdown",
   "metadata": {},
   "source": [
    "### Task 5: Display the reshaped data in a table format\n",
    "Create a table that shows the day of the week and temperatures from both weeks."
   ]
  },
  {
   "cell_type": "code",
   "execution_count": null,
   "metadata": {},
   "outputs": [],
   "source": [
    "# Display the reshaped data in a table format\n",
    "# YOUR CODE HERE"
   ]
  }
 ],
 "metadata": {
  "kernelspec": {
   "display_name": "Python 3",
   "language": "python",
   "name": "python3"
  },
  "language_info": {
   "codemirror_mode": {
    "name": "ipython",
    "version": 3
   },
   "file_extension": ".py",
   "mimetype": "text/x-python",
   "name": "python",
   "nbconvert_exporter": "python",
   "version": "3.7.10"
  }
 },
 "nbformat": 4,
 "nbformat_minor": 4
}
